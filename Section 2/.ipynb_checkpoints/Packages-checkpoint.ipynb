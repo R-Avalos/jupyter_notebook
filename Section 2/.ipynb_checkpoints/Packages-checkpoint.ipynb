{
 "cells": [
  {
   "cell_type": "markdown",
   "metadata": {
    "collapsed": true
   },
   "source": [
    "Packages in Python\n",
    "\n",
    "Packages contain functions, and some other things like data and classes.\n",
    "Core of Python comes with a very limited set of functions. This was designed on purpose.\n",
    "\n",
    "Find package -> install package -> import package or function\n",
    "\n",
    "Step 1, find the package.\n",
    "Check out github.\n",
    "\n",
    "Step 2, install.\n",
    "On windows, start>serach: \"anaconda\".\n",
    "conda install PAGCKAGEname .\n",
    "or pip install PACKAGEname .\n",
    "\n",
    "ON mac, open terminal (command + space).\n",
    "**conda install** packagename .\n",
    "or pip install packagename .\n",
    "(command t for new terminal windy)\n",
    "\n",
    "Step 3, import.\n",
    "**import** packagename .\n",
    "specific function:   **from** packagname **import** functionname"
   ]
  },
  {
   "cell_type": "code",
   "execution_count": 1,
   "metadata": {
    "collapsed": true
   },
   "outputs": [],
   "source": [
    "import scrapy"
   ]
  },
  {
   "cell_type": "code",
   "execution_count": 2,
   "metadata": {
    "collapsed": true
   },
   "outputs": [],
   "source": [
    "from scrapy.crawler import CrawlerProcess"
   ]
  },
  {
   "cell_type": "markdown",
   "metadata": {},
   "source": [
    "If you are using an IDE (pycharm) or so forth, the steps are the same. The anaconda distribution includes many common packages."
   ]
  },
  {
   "cell_type": "code",
   "execution_count": 3,
   "metadata": {
    "collapsed": true
   },
   "outputs": [],
   "source": [
    "import numpy"
   ]
  },
  {
   "cell_type": "code",
   "execution_count": null,
   "metadata": {
    "collapsed": true
   },
   "outputs": [],
   "source": []
  }
 ],
 "metadata": {
  "kernelspec": {
   "display_name": "Python 3",
   "language": "python",
   "name": "python3"
  },
  "language_info": {
   "codemirror_mode": {
    "name": "ipython",
    "version": 3
   },
   "file_extension": ".py",
   "mimetype": "text/x-python",
   "name": "python",
   "nbconvert_exporter": "python",
   "pygments_lexer": "ipython3",
   "version": "3.6.2"
  }
 },
 "nbformat": 4,
 "nbformat_minor": 2
}
