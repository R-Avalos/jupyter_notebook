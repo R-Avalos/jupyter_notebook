{
 "cells": [
  {
   "cell_type": "markdown",
   "metadata": {},
   "source": [
    "Financial Statement Analysis.\n",
    "\n",
    "You are a data scientist working for a conulting firm. Auditing dept colleague needs help assessing financial statement from the organization.\n",
    "\n",
    "You have been supplied with two lists of data:.\n",
    "**monthly revenue**.\n",
    "**monthly expenses**.\n",
    "\n",
    "Calculate the following.\n",
    "1. profit by month\n",
    "2. profit after tax for each month. Tax rate *30%*\n",
    "3. profit margin for each month. (profit after tax divided by rev)\n",
    "4. good month, where profit after tax > mean for year.\n",
    "5. bad month, where profit after tax < mean for year.\n",
    "6. the best month, max profit ater tax.\n",
    "7. worst month, min profit after tax.\n",
    "\n",
    "All results need to be presented as list.\n",
    "Results need to be calculated with $0.01 precision, but presented with no decmial places.\n",
    "*Tax can be negative* (deferred tax asset)."
   ]
  },
  {
   "cell_type": "code",
   "execution_count": 1,
   "metadata": {
    "collapsed": true
   },
   "outputs": [],
   "source": [
    "import numpy as np"
   ]
  },
  {
   "cell_type": "code",
   "execution_count": null,
   "metadata": {
    "collapsed": true
   },
   "outputs": [],
   "source": []
  }
 ],
 "metadata": {
  "kernelspec": {
   "display_name": "Python 3",
   "language": "python",
   "name": "python3"
  },
  "language_info": {
   "codemirror_mode": {
    "name": "ipython",
    "version": 3
   },
   "file_extension": ".py",
   "mimetype": "text/x-python",
   "name": "python",
   "nbconvert_exporter": "python",
   "pygments_lexer": "ipython3",
   "version": "3.6.2"
  }
 },
 "nbformat": 4,
 "nbformat_minor": 2
}
