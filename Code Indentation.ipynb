{
 "cells": [
  {
   "cell_type": "markdown",
   "metadata": {
    "collapsed": true
   },
   "source": [
    "# Indentation\n",
    "or how code can go wrong if one is not careful with indentations"
   ]
  },
  {
   "cell_type": "code",
   "execution_count": 25,
   "metadata": {},
   "outputs": [
    {
     "name": "stdout",
     "output_type": "stream",
     "text": [
      "hello\n",
      "-0.5343800254107525\n",
      "Between -1 and 1\n"
     ]
    }
   ],
   "source": [
    "# Correct indentation\n",
    "import numpy as np\n",
    "from numpy.random import randn\n",
    "\n",
    "answer = None\n",
    "x = randn()\n",
    "if x > 1:\n",
    "    answer = \"Greater than 1\"\n",
    "elif x >= -1:\n",
    "    answer = \"Between -1 and 1\"\n",
    "else:\n",
    "    answer = \"Less than -1\"\n",
    "\n",
    "\n",
    "print(\"hello\")\n",
    "print(x)\n",
    "print(answer)"
   ]
  },
  {
   "cell_type": "code",
   "execution_count": 27,
   "metadata": {},
   "outputs": [
    {
     "name": "stdout",
     "output_type": "stream",
     "text": [
      "1.1346572304635363\n",
      "Greater than 1\n"
     ]
    }
   ],
   "source": [
    "# Incorrect indentation\n",
    "import numpy as np\n",
    "from numpy.random import randn\n",
    "\n",
    "answer = None\n",
    "x = randn()\n",
    "if x > 1:\n",
    "    answer = \"Greater than 1\"\n",
    "elif x >= -1:\n",
    "    answer = \"Between -1 and 1\"\n",
    "else:\n",
    "    answer = \"Less than -1\"\n",
    "    print(\"hello\")\n",
    "\n",
    "print(x)\n",
    "print(answer)"
   ]
  },
  {
   "cell_type": "code",
   "execution_count": null,
   "metadata": {
    "collapsed": true
   },
   "outputs": [],
   "source": []
  }
 ],
 "metadata": {
  "kernelspec": {
   "display_name": "Python 3",
   "language": "python",
   "name": "python3"
  },
  "language_info": {
   "codemirror_mode": {
    "name": "ipython",
    "version": 3
   },
   "file_extension": ".py",
   "mimetype": "text/x-python",
   "name": "python",
   "nbconvert_exporter": "python",
   "pygments_lexer": "ipython3",
   "version": "3.6.2"
  }
 },
 "nbformat": 4,
 "nbformat_minor": 2
}
