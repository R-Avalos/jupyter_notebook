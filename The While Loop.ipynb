{
 "cells": [
  {
   "cell_type": "markdown",
   "metadata": {},
   "source": [
    "# The While Loop\n",
    "R is a vectorized programming languge, but Python is not!\n",
    "Python is an object oriented language, instead of vectorized.\n",
    "\n",
    "<b>Standard languages </b> will check condition, if true run, and recheck condition (loop until condition is false)\n",
    "`while(condition){\n",
    "    execute1\n",
    "    execute2\n",
    "    return\n",
    "}`\n",
    "\n",
    "\n",
    "<b>Python While Loop is different</b>\n",
    "Indentations matter. This is how python operates instead of using {} braces\n",
    "\n",
    "`while condition:\n",
    "    execute1\n",
    "    execute2\n",
    "    execute3`\n"
   ]
  },
  {
   "cell_type": "code",
   "execution_count": 2,
   "metadata": {},
   "outputs": [
    {
     "name": "stdout",
     "output_type": "stream",
     "text": [
      "0\n",
      "1\n",
      "2\n",
      "3\n",
      "4\n",
      "5\n",
      "6\n",
      "7\n",
      "8\n",
      "9\n",
      "10\n",
      "11\n"
     ]
    }
   ],
   "source": [
    "counter = 0\n",
    "while counter < 12:\n",
    "    print(counter)\n",
    "    counter = counter + 1"
   ]
  },
  {
   "cell_type": "code",
   "execution_count": null,
   "metadata": {
    "collapsed": true
   },
   "outputs": [],
   "source": []
  }
 ],
 "metadata": {
  "kernelspec": {
   "display_name": "Python 3",
   "language": "python",
   "name": "python3"
  },
  "language_info": {
   "codemirror_mode": {
    "name": "ipython",
    "version": 3
   },
   "file_extension": ".py",
   "mimetype": "text/x-python",
   "name": "python",
   "nbconvert_exporter": "python",
   "pygments_lexer": "ipython3",
   "version": "3.6.2"
  }
 },
 "nbformat": 4,
 "nbformat_minor": 2
}
